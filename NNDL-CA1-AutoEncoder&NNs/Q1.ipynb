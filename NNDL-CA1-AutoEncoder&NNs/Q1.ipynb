{
 "cells": [
  {
   "cell_type": "markdown",
   "metadata": {},
   "source": [
    "## Sepehr Azardar: 810199357\n",
    "## Pouria Tajmehrabi: 810199 ?347?\n"
   ]
  },
  {
   "cell_type": "markdown",
   "metadata": {},
   "source": [
    "# Question1"
   ]
  },
  {
   "cell_type": "markdown",
   "metadata": {},
   "source": [
    "### 1.2: One-Layer Neural network:\n"
   ]
  },
  {
   "cell_type": "code",
   "execution_count": 1,
   "metadata": {},
   "outputs": [],
   "source": [
    "from typing import List\n",
    "import math\n"
   ]
  },
  {
   "cell_type": "code",
   "execution_count": 2,
   "metadata": {},
   "outputs": [],
   "source": [
    "# create McCullochPittsNeuron class: \n",
    "class McCullochPittsNeuron:\n",
    "  def __init__(self, weights: List[int], threshold: int):\n",
    "    self.weights = weights\n",
    "    self.threshold = threshold\n",
    "\n",
    "  def forward(self, inputs: List[int]) -> float:\n",
    "    # Weighted sum of inputs\n",
    "    if len(inputs) != len(self.weights):\n",
    "      raise Exception(\"The number of inputs does not match the number of weights\")\n",
    "    total = 0\n",
    "    for i in range(len(inputs)):\n",
    "      total += inputs[i] * self.weights[i]\n",
    "    if total >= self.threshold:\n",
    "      return 1\n",
    "    else:\n",
    "      return 0\n",
    "  "
   ]
  },
  {
   "cell_type": "code",
   "execution_count": 3,
   "metadata": {},
   "outputs": [],
   "source": [
    "# create instances of McCullochPittsNeuron with correct weights to\n",
    "# calculates the 6,7,8,9 digit logic in 7segment:\n",
    "# the logic here is that the weights for those we want to be 1 is 1\n",
    "#  other wise -1 and the threshold is the sum of ones\n",
    "# TRUTH TABLE:            WEIGHTS:\n",
    "#    a b c d e f g\n",
    "# 6: 1 0 1 1 1 1 1  --->  1 -1  1  1  1  1  1\n",
    "# 7: 1 1 1 0 0 0 0  --->  1  1  1 -1 -1 -1 -1\n",
    "# 8: 1 1 1 1 1 1 1  --->  1  1  1  1  1  1  1\n",
    "# 9: 1 1 1 1 0 1 1  --->  1  1  1  1 -1  1  1\n",
    "\n",
    "weights6 = [1, -1, 1, 1, 1, 1, 1]\n",
    "threshold6 = 6\n",
    "neuron6 = McCullochPittsNeuron(weights6, threshold6)\n",
    "\n",
    "weights7 = [1, 1, 1, -1, -1, -1, -1]\n",
    "threshold7 = 3\n",
    "neuron7 = McCullochPittsNeuron(weights7, threshold7)\n",
    "\n",
    "weights8 = [1, 1, 1, 1, 1, 1, 1]\n",
    "threshold8 = 7\n",
    "neuron8 = McCullochPittsNeuron(weights8, threshold8)\n",
    "\n",
    "weights9 = [1, 1, 1, 1, -1, 1, 1]\n",
    "threshold9 = 6\n",
    "neuron9 = McCullochPittsNeuron(weights9, threshold9)\n",
    "\n",
    "def network(input: List[int]):\n",
    "  return [neuron6.forward(input), neuron7.forward(input), neuron8.forward(input), neuron9.forward(input)]"
   ]
  },
  {
   "cell_type": "code",
   "execution_count": 6,
   "metadata": {},
   "outputs": [
    {
     "name": "stdout",
     "output_type": "stream",
     "text": [
      "[1, 0, 0, 0]\n",
      "[0, 1, 0, 0]\n",
      "[0, 0, 1, 0]\n",
      "[0, 0, 0, 1]\n",
      "[0, 0, 0, 0]\n"
     ]
    }
   ],
   "source": [
    "# test 6:\n",
    "inputs = [1, 0, 1, 1, 1, 1, 1]\n",
    "print(network(inputs))\n",
    "# test 7:\n",
    "inputs = [1, 1, 1, 0, 0, 0, 0]\n",
    "print(network(inputs))\n",
    "# test 8:\n",
    "inputs = [1, 1, 1, 1, 1, 1, 1]\n",
    "print(network(inputs))\n",
    "# test 9:\n",
    "inputs = [1, 1, 1, 1, 0, 1, 1]\n",
    "print(network(inputs))\n",
    "# other inputs should equal to zero:\n",
    "inputs = [0, 0, 0, 0, 0, 0, 0]\n",
    "print(network(inputs))\n",
    "# inputs = [1, 0, 0, 0, 0, 0, 0]\n",
    "# print(network(inputs))\n",
    "\n"
   ]
  },
  {
   "cell_type": "markdown",
   "metadata": {},
   "source": [
    "<div dir=\"rtl\">\n",
    "خروجی ها معادل جدول صحتی بود که از ابتدا ما انتظار آن را داشتیم. به ترتیب 6و7و8و9 داده شده است و تنها\n",
    "نورون متناظر با آن\n",
    "category \n",
    "فعال شده است و بقیه نورون ها خروجی 0 را تولید کرده اند.\n",
    "در واقع در اینجا 4 تا کتگوری داریم و چون ارتباطی باهم ندارند. بنابراین به صورت\n",
    "one-hot encoding\n",
    "خروجی محاسبه میکنیم.\n",
    "</div>\n",
    "\n"
   ]
  },
  {
   "cell_type": "markdown",
   "metadata": {},
   "source": [
    "---\n"
   ]
  },
  {
   "cell_type": "markdown",
   "metadata": {},
   "source": [
    "### 1.3: Two-Layer Neural network:\n"
   ]
  },
  {
   "cell_type": "code",
   "execution_count": 34,
   "metadata": {},
   "outputs": [],
   "source": [
    "# create a simple network baased on McCullochPitts neurons, with one hidden layer:\n",
    "# the hidden layer has two neuron and one detect the squrae at top and the other detect the availibility of segment e\n",
    "# the logic here is that the weights for those we want to be 1 is 1 other wise -1 and the threshold is the sum of ones\n",
    "#                       TRUTH TABLE:            WEIGHTS:\n",
    "#                       a b c d e f g  --->     \n",
    "# create instances of McCullochPittsNeuron with correct weights to\n",
    "# detect the square at top and the availability of segment e:\n",
    "# the logic here is that the weights for those we want to be 1 is 1 other wise 0 and the threshold is the sum of ones\n",
    "#                       TRUTH TABLE:            WEIGHTS:\n",
    "#                       a b c d e f g\n",
    "# head square(a,b,g,f): 1 1 0 0 0 1 1  --->    1 1 0 0 0 1 1 \n",
    "# e:                    0 0 0 0 1 0 0  --->    0 0 0 0 1 0 0 \n",
    "# create hidden layer neurons with correct weights\n",
    "weights_hidden = [[1,1,0,0,0,1,1], [0,0,0,0,1,0,0]]\n",
    "threshold_hidden = [4, 1]\n",
    "neuron_hidden1 = McCullochPittsNeuron(weights_hidden[0], threshold_hidden[0])\n",
    "neuron_hidden2 = McCullochPittsNeuron(weights_hidden[1], threshold_hidden[1])\n",
    "\n",
    "\n",
    "# create an output neuron that detects the number 6,7,8,9 based on the output of the hidden layer neurons:\n",
    "# the logic here is that the weights for those we want to be 1 is 1 other wise -1 and the threshold is the sum of ones\n",
    "#     TRUTH TABLE:            WEIGHTS:\n",
    "#     head_square e\n",
    "# 6:  0           1             \n",
    "# 7:  0           0\n",
    "# 8:  1           1\n",
    "# 9:  1           0\n",
    "\n",
    "# create output layer neuron with correct weights\n",
    "weights6 = [-1,1]\n",
    "threshold6 = 1\n",
    "neuron6 = McCullochPittsNeuron(weights6, threshold6)\n",
    "\n",
    "weights7 = [-1,-1]\n",
    "threshold7 = 0\n",
    "neuron7 = McCullochPittsNeuron(weights7, threshold7)\n",
    "\n",
    "weights8 = [1,1]\n",
    "threshold8 = 2\n",
    "neuron8 = McCullochPittsNeuron(weights8, threshold8)\n",
    "\n",
    "weights9 = [1,-1]\n",
    "threshold9 = 1\n",
    "neuron9 = McCullochPittsNeuron(weights9, threshold9)\n",
    "\n",
    "def network(input: List[int]):\n",
    "  hidden_layer_output = [neuron_hidden1.forward(input), neuron_hidden2.forward(input)]\n",
    "  # print(hidden_layer_output)\n",
    "  return [neuron6.forward(hidden_layer_output), neuron7.forward(hidden_layer_output), neuron8.forward(hidden_layer_output), neuron9.forward(hidden_layer_output)]"
   ]
  },
  {
   "cell_type": "code",
   "execution_count": 35,
   "metadata": {},
   "outputs": [
    {
     "name": "stdout",
     "output_type": "stream",
     "text": [
      "[1, 0, 0, 0]\n",
      "[0, 1, 0, 0]\n",
      "[0, 0, 1, 0]\n",
      "[0, 0, 0, 1]\n"
     ]
    }
   ],
   "source": [
    "# test 6\n",
    "inputs = [1, 0, 1, 1, 1, 1, 1]\n",
    "print(network(inputs))\n",
    "# test 7\n",
    "inputs = [1, 1, 1, 0, 0, 0, 0]\n",
    "print(network(inputs))\n",
    "# test 8\n",
    "inputs = [1, 1, 1, 1, 1, 1, 1]\n",
    "print(network(inputs))\n",
    "# test 9\n",
    "inputs = [1, 1, 1, 1, 0, 1, 1]\n",
    "print(network(inputs))\n"
   ]
  },
  {
   "cell_type": "markdown",
   "metadata": {},
   "source": [
    "<div dir=\"rtl\">\n",
    "    <h1>بخش 1-3 شبکه عصبی دو لایه</h1>\n",
    "    در اینجا همان طوری که در کد کامنت شده است. دو نورون در لایه نهان داریم. و هر کدام از آن ها دو خروجی به ما میدهند،\n",
    "   بنابراین در مجموع ما 4 حالت مختلف خواهیم داشت. و باید به صورتی فیچر\n",
    "   /pattern\n",
    "    ها را تشخیص دهیم که هر کدام از آن ها یکی از این 4 حالت را نشان میدهند. در واقع باید به \n",
    "    informative \n",
    "    ترین حالت ممکن، این فیچر ها را استخراج کنیم تا بتوانیم هر چهار حالت را از یکدیگر تمیز دهیم. در واقع باید فیجر ها و پترن هایی را انتخاب \n",
    "    کنیم که در لایه اخر، ورودی ها از همدیگر به صورت خطی جدا\n",
    "      <br>\n",
    "      (linearly-separable)\n",
    "<br>\n",
    "    پذیر باشند.\n",
    "    <br>\n",
    "    <hr>\n",
    "    <h3>ب\n",
    "    </h3>\n",
    "    <br>\n",
    "    یک نورون وجود مربع در قسمت بالایی را بررسی میکند، یعنی حضور\n",
    "    <br>\n",
    "                          a b c d e f g \n",
    "                          <br>\n",
    "    head square(a,b,g,f): 1 1 0 0 0 1 1 \n",
    "    <br>\n",
    "    و نورون دیگر حضور المنت \n",
    "    e\n",
    "    به تنهایی را مورد بررسی قرار میدهد.\n",
    "    <h3>ج\n",
    "    </h3>\n",
    "    مقایسه پارامتر ها:\n",
    "    شبکه یک لایه:\n",
    "    <br>\n",
    "    7\n",
    "    تا ورودی داریم  و 4 تا خروجی. و شبکه \n",
    "    dense/fully connected\n",
    "    میباشد بنابراین در مجموع \n",
    "    7*4=28\n",
    "    پارامتر داریم.\n",
    "    وزن یال ها پارامتر های ما هستند.\n",
    "    <br>\n",
    "    شبکه دو لایه:\n",
    "    <br>\n",
    "    7\n",
    "    تا ورودی داریم  و 4 تا خروجی. و دو نورون در لایه نهان.\n",
    "    بنابراین \n",
    "    7 * 2 + 2 * 4 =  \n",
    "    22\n",
    "    پارامتر داریم.\n",
    "    <br>\n",
    "    همان طور که انتظار میرفت با افزایش لایه ها قدرت شبکه بیشتر میشود و به نوعی حافظه یا \n",
    "    sequence \n",
    "    در شبکه بوجود میاید. بنابراین با پارامتر های کمتر می توان همان نتایج را بدست آورد و یا حتی بهتر عمل کرد زیرا که افزایش عمق باعث افزایش ظرفیت شبکه در\n",
    "    prediction\n",
    "    میشود.\n",
    "</div>"
   ]
  }
 ],
 "metadata": {
  "kernelspec": {
   "display_name": "base",
   "language": "python",
   "name": "python3"
  },
  "language_info": {
   "codemirror_mode": {
    "name": "ipython",
    "version": 3
   },
   "file_extension": ".py",
   "mimetype": "text/x-python",
   "name": "python",
   "nbconvert_exporter": "python",
   "pygments_lexer": "ipython3",
   "version": "3.11.3"
  }
 },
 "nbformat": 4,
 "nbformat_minor": 2
}
